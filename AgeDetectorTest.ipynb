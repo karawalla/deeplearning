{
  "nbformat": 4,
  "nbformat_minor": 0,
  "metadata": {
    "colab": {
      "name": "GetFiles.ipynb",
      "version": "0.3.2",
      "provenance": [],
      "collapsed_sections": [],
      "include_colab_link": true
    },
    "kernelspec": {
      "name": "python3",
      "display_name": "Python 3"
    },
    "accelerator": "GPU"
  },
  "cells": [
    {
      "cell_type": "markdown",
      "metadata": {
        "id": "view-in-github",
        "colab_type": "text"
      },
      "source": [
        "[View in Colaboratory](https://colab.research.google.com/github/karawalla/deeplearning/blob/master/AgeDetectorTest.ipynb)"
      ]
    },
    {
      "metadata": {
        "id": "z-kV6GF8Ussi",
        "colab_type": "code",
        "colab": {
          "base_uri": "https://localhost:8080/",
          "height": 34
        },
        "outputId": "62eb9ebb-fd8b-4f85-f314-5406df220025"
      },
      "cell_type": "code",
      "source": [
        "import tensorflow as tf\n",
        "tf.test.gpu_device_name()"
      ],
      "execution_count": 1,
      "outputs": [
        {
          "output_type": "execute_result",
          "data": {
            "text/plain": [
              "'/device:GPU:0'"
            ]
          },
          "metadata": {
            "tags": []
          },
          "execution_count": 1
        }
      ]
    },
    {
      "metadata": {
        "id": "dHvvrrx1U0Qg",
        "colab_type": "code",
        "colab": {}
      },
      "cell_type": "code",
      "source": [
        "!pip install -U -q PyDrive"
      ],
      "execution_count": 0,
      "outputs": []
    },
    {
      "metadata": {
        "id": "XlKZQDWmU6i4",
        "colab_type": "code",
        "colab": {}
      },
      "cell_type": "code",
      "source": [
        "from pydrive.auth import GoogleAuth\n",
        "from pydrive.drive import GoogleDrive\n",
        "from google.colab import auth\n",
        "from oauth2client.client import GoogleCredentials\n",
        " "
      ],
      "execution_count": 0,
      "outputs": []
    },
    {
      "metadata": {
        "id": "DEX9Mk_CU9uw",
        "colab_type": "code",
        "colab": {}
      },
      "cell_type": "code",
      "source": [
        "auth.authenticate_user()\n",
        "gauth = GoogleAuth()\n",
        "gauth.credentials = GoogleCredentials.get_application_default()\n",
        "drive = GoogleDrive(gauth)"
      ],
      "execution_count": 0,
      "outputs": []
    },
    {
      "metadata": {
        "id": "Fl9HTGfCVARH",
        "colab_type": "code",
        "colab": {
          "base_uri": "https://localhost:8080/",
          "height": 85
        },
        "outputId": "8cf9a3ee-c672-48b0-c59f-879725e259aa"
      },
      "cell_type": "code",
      "source": [
        "file_list = drive.ListFile({'q': \"'1V9nsFotw_gaHCiz_AY-UZZ9TaAMiKnIe' in parents and trashed=false\"}).GetList()\n",
        "for file1 in file_list:\n",
        "  print('title: %s, id: %s' % (file1['title'], file1['id']))\n",
        "\n",
        "train_downloaded = drive.CreateFile({'id': '18XsB6rxQDhRlKPObe356QAFN_CyBAjHR'})\n",
        "train_downloaded.GetContentFile('train.zip')\n",
        "test_downloaded = drive.CreateFile({'id': '168487PQj2N7mEP_pZb5JjVFzmRK0TUO-'})\n",
        "test_downloaded.GetContentFile('test.zip')  "
      ],
      "execution_count": 7,
      "outputs": [
        {
          "output_type": "stream",
          "text": [
            "title: AgeDetector.ipynb, id: 1r19OHImli8qe2fQeeXP_7lRoO1qvbf9M\n",
            "title: Untitled0.ipynb, id: 1djHBaBCRtfRxfcAFZXEXBxE87xOuXTzP\n",
            "title: train_DETg9GD.zip, id: 18XsB6rxQDhRlKPObe356QAFN_CyBAjHR\n",
            "title: test_Bh8pGW3.zip, id: 168487PQj2N7mEP_pZb5JjVFzmRK0TUO-\n"
          ],
          "name": "stdout"
        }
      ]
    },
    {
      "metadata": {
        "id": "perYuS_qVvYX",
        "colab_type": "code",
        "colab": {
          "base_uri": "https://localhost:8080/",
          "height": 34
        },
        "outputId": "17d3fa4b-004e-4c19-df8c-f607d03d31c3"
      },
      "cell_type": "code",
      "source": [
        "!ls"
      ],
      "execution_count": 11,
      "outputs": [
        {
          "output_type": "stream",
          "text": [
            "datalab  Test  test.csv  test.zip  Train  train.csv  train.zip\r\n"
          ],
          "name": "stdout"
        }
      ]
    },
    {
      "metadata": {
        "id": "zDfCe1ysWfF3",
        "colab_type": "code",
        "colab": {
          "base_uri": "https://localhost:8080/",
          "height": 34
        },
        "outputId": "27433991-ade0-43a9-a01a-6057f8494fca"
      },
      "cell_type": "code",
      "source": [
        "% pylab inline\n",
        "import os\n",
        "import random\n",
        "\n",
        "import pandas as pd\n",
        "from scipy.misc import imread"
      ],
      "execution_count": 14,
      "outputs": [
        {
          "output_type": "stream",
          "text": [
            "Populating the interactive namespace from numpy and matplotlib\n"
          ],
          "name": "stdout"
        }
      ]
    },
    {
      "metadata": {
        "id": "HBw4etyfXJ_9",
        "colab_type": "code",
        "colab": {}
      },
      "cell_type": "code",
      "source": [
        "train = pd.read_csv('train.csv')\n",
        "test = pd.read_csv('test.csv')\n"
      ],
      "execution_count": 0,
      "outputs": []
    },
    {
      "metadata": {
        "id": "Ekt2dGI4YZ7J",
        "colab_type": "code",
        "colab": {
          "base_uri": "https://localhost:8080/",
          "height": 302
        },
        "outputId": "e9c295e8-e6da-4e93-feef-e62f36e5edc2"
      },
      "cell_type": "code",
      "source": [
        "i = random.choice(train.index)\n",
        "img_name = train.ID[i]\n",
        "img =imread(os.path.join('Train', img_name))\n",
        "\n",
        "print(\"Age:\", train.Class[i])\n",
        "imshow(img)"
      ],
      "execution_count": 48,
      "outputs": [
        {
          "output_type": "stream",
          "text": [
            "Age: MIDDLE\n"
          ],
          "name": "stdout"
        },
        {
          "output_type": "execute_result",
          "data": {
            "text/plain": [
              "<matplotlib.image.AxesImage at 0x7f7ebf022c88>"
            ]
          },
          "metadata": {
            "tags": []
          },
          "execution_count": 48
        },
        {
          "output_type": "display_data",
          "data": {
            "image/png": "[encoded data removed]",
            "text/plain": [
              "<matplotlib.figure.Figure at 0x7f7ebeffa828>"
            ]
          },
          "metadata": {
            "tags": []
          }
        }
      ]
    },
    {
      "metadata": {
        "id": "phKZxg_jbixj",
        "colab_type": "code",
        "colab": {
          "base_uri": "https://localhost:8080/",
          "height": 105
        },
        "outputId": "ffae2631-40db-4d57-b616-445f224e8ad6"
      },
      "cell_type": "code",
      "source": [
        "from scipy.misc import imresize\n",
        "\n",
        "tmp = []\n",
        "for img_name in train.ID:\n",
        "  img = imread(os.path.join('Train', train.ID[i]))\n",
        "  img = imresize(img, (32, 32))\n",
        "  img = img.astype('float32')\n",
        "  tmp.append(img)\n",
        "\n",
        "train_x = np.stack(tmp)\n",
        "\n",
        "\n",
        "tmp = []\n",
        "for img_name in test.ID:\n",
        "  img = imread(os.path.join('Test', test.ID[i]))\n",
        "  img = imresize(img, (32, 32))\n",
        "  img = img.astype('float32')\n",
        "  tmp.append(img)\n",
        "\n",
        "test_x = np.stack(tmp)\n",
        "\n",
        "\n",
        "\n",
        "  "
      ],
      "execution_count": 54,
      "outputs": [
        {
          "output_type": "stream",
          "text": [
            "/usr/local/lib/python3.6/dist-packages/scipy/misc/pilutil.py:482: FutureWarning: Conversion of the second argument of issubdtype from `int` to `np.signedinteger` is deprecated. In future, it will be treated as `np.int64 == np.dtype(int).type`.\n",
            "  if issubdtype(ts, int):\n",
            "/usr/local/lib/python3.6/dist-packages/scipy/misc/pilutil.py:485: FutureWarning: Conversion of the second argument of issubdtype from `float` to `np.floating` is deprecated. In future, it will be treated as `np.float64 == np.dtype(float).type`.\n",
            "  elif issubdtype(type(size), float):\n"
          ],
          "name": "stderr"
        }
      ]
    },
    {
      "metadata": {
        "id": "6BAt1NCXbonU",
        "colab_type": "code",
        "colab": {}
      },
      "cell_type": "code",
      "source": [
        "test_x = test_x/255.\n",
        "train_x = train_x/255."
      ],
      "execution_count": 0,
      "outputs": []
    },
    {
      "metadata": {
        "id": "l2014qGSd8LP",
        "colab_type": "code",
        "colab": {
          "base_uri": "https://localhost:8080/",
          "height": 85
        },
        "outputId": "9a7e414a-f182-47b7-c8d3-bb998000dd7c"
      },
      "cell_type": "code",
      "source": [
        "train.Class.value_counts(normalize=True)"
      ],
      "execution_count": 60,
      "outputs": [
        {
          "output_type": "execute_result",
          "data": {
            "text/plain": [
              "MIDDLE    0.542751\n",
              "YOUNG     0.336883\n",
              "OLD       0.120366\n",
              "Name: Class, dtype: float64"
            ]
          },
          "metadata": {
            "tags": []
          },
          "execution_count": 60
        }
      ]
    },
    {
      "metadata": {
        "id": "XsrYxVMMiq-u",
        "colab_type": "code",
        "colab": {
          "base_uri": "https://localhost:8080/",
          "height": 1969
        },
        "outputId": "673e1ffc-d5f2-4d77-9b3a-3a649776c21b"
      },
      "cell_type": "code",
      "source": [
        "test"
      ],
      "execution_count": 62,
      "outputs": [
        {
          "output_type": "execute_result",
          "data": {
            "text/html": [
              "<div>\n",
              "<style scoped>\n",
              "    .dataframe tbody tr th:only-of-type {\n",
              "        vertical-align: middle;\n",
              "    }\n",
              "\n",
              "    .dataframe tbody tr th {\n",
              "        vertical-align: top;\n",
              "    }\n",
              "\n",
              "    .dataframe thead th {\n",
              "        text-align: right;\n",
              "    }\n",
              "</style>\n",
              "<table border=\"1\" class=\"dataframe\">\n",
              "  <thead>\n",
              "    <tr style=\"text-align: right;\">\n",
              "      <th></th>\n",
              "      <th>ID</th>\n",
              "    </tr>\n",
              "  </thead>\n",
              "  <tbody>\n",
              "    <tr>\n",
              "      <th>0</th>\n",
              "      <td>25321.jpg</td>\n",
              "    </tr>\n",
              "    <tr>\n",
              "      <th>1</th>\n",
              "      <td>989.jpg</td>\n",
              "    </tr>\n",
              "    <tr>\n",
              "      <th>2</th>\n",
              "      <td>19277.jpg</td>\n",
              "    </tr>\n",
              "    <tr>\n",
              "      <th>3</th>\n",
              "      <td>13093.jpg</td>\n",
              "    </tr>\n",
              "    <tr>\n",
              "      <th>4</th>\n",
              "      <td>5367.jpg</td>\n",
              "    </tr>\n",
              "    <tr>\n",
              "      <th>5</th>\n",
              "      <td>19851.jpg</td>\n",
              "    </tr>\n",
              "    <tr>\n",
              "      <th>6</th>\n",
              "      <td>10384.jpg</td>\n",
              "    </tr>\n",
              "    <tr>\n",
              "      <th>7</th>\n",
              "      <td>24567.jpg</td>\n",
              "    </tr>\n",
              "    <tr>\n",
              "      <th>8</th>\n",
              "      <td>2029.jpg</td>\n",
              "    </tr>\n",
              "    <tr>\n",
              "      <th>9</th>\n",
              "      <td>4956.jpg</td>\n",
              "    </tr>\n",
              "    <tr>\n",
              "      <th>10</th>\n",
              "      <td>26131.jpg</td>\n",
              "    </tr>\n",
              "    <tr>\n",
              "      <th>11</th>\n",
              "      <td>17407.jpg</td>\n",
              "    </tr>\n",
              "    <tr>\n",
              "      <th>12</th>\n",
              "      <td>11136.jpg</td>\n",
              "    </tr>\n",
              "    <tr>\n",
              "      <th>13</th>\n",
              "      <td>23038.jpg</td>\n",
              "    </tr>\n",
              "    <tr>\n",
              "      <th>14</th>\n",
              "      <td>6333.jpg</td>\n",
              "    </tr>\n",
              "    <tr>\n",
              "      <th>15</th>\n",
              "      <td>25076.jpg</td>\n",
              "    </tr>\n",
              "    <tr>\n",
              "      <th>16</th>\n",
              "      <td>22102.jpg</td>\n",
              "    </tr>\n",
              "    <tr>\n",
              "      <th>17</th>\n",
              "      <td>12396.jpg</td>\n",
              "    </tr>\n",
              "    <tr>\n",
              "      <th>18</th>\n",
              "      <td>24719.jpg</td>\n",
              "    </tr>\n",
              "    <tr>\n",
              "      <th>19</th>\n",
              "      <td>21354.jpg</td>\n",
              "    </tr>\n",
              "    <tr>\n",
              "      <th>20</th>\n",
              "      <td>15362.jpg</td>\n",
              "    </tr>\n",
              "    <tr>\n",
              "      <th>21</th>\n",
              "      <td>10415.jpg</td>\n",
              "    </tr>\n",
              "    <tr>\n",
              "      <th>22</th>\n",
              "      <td>5295.jpg</td>\n",
              "    </tr>\n",
              "    <tr>\n",
              "      <th>23</th>\n",
              "      <td>5531.jpg</td>\n",
              "    </tr>\n",
              "    <tr>\n",
              "      <th>24</th>\n",
              "      <td>16784.jpg</td>\n",
              "    </tr>\n",
              "    <tr>\n",
              "      <th>25</th>\n",
              "      <td>22442.jpg</td>\n",
              "    </tr>\n",
              "    <tr>\n",
              "      <th>26</th>\n",
              "      <td>16794.jpg</td>\n",
              "    </tr>\n",
              "    <tr>\n",
              "      <th>27</th>\n",
              "      <td>11261.jpg</td>\n",
              "    </tr>\n",
              "    <tr>\n",
              "      <th>28</th>\n",
              "      <td>11540.jpg</td>\n",
              "    </tr>\n",
              "    <tr>\n",
              "      <th>29</th>\n",
              "      <td>24286.jpg</td>\n",
              "    </tr>\n",
              "    <tr>\n",
              "      <th>...</th>\n",
              "      <td>...</td>\n",
              "    </tr>\n",
              "    <tr>\n",
              "      <th>6606</th>\n",
              "      <td>13841.jpg</td>\n",
              "    </tr>\n",
              "    <tr>\n",
              "      <th>6607</th>\n",
              "      <td>8999.jpg</td>\n",
              "    </tr>\n",
              "    <tr>\n",
              "      <th>6608</th>\n",
              "      <td>15780.jpg</td>\n",
              "    </tr>\n",
              "    <tr>\n",
              "      <th>6609</th>\n",
              "      <td>10241.jpg</td>\n",
              "    </tr>\n",
              "    <tr>\n",
              "      <th>6610</th>\n",
              "      <td>13006.jpg</td>\n",
              "    </tr>\n",
              "    <tr>\n",
              "      <th>6611</th>\n",
              "      <td>20322.jpg</td>\n",
              "    </tr>\n",
              "    <tr>\n",
              "      <th>6612</th>\n",
              "      <td>24054.jpg</td>\n",
              "    </tr>\n",
              "    <tr>\n",
              "      <th>6613</th>\n",
              "      <td>21310.jpg</td>\n",
              "    </tr>\n",
              "    <tr>\n",
              "      <th>6614</th>\n",
              "      <td>24707.jpg</td>\n",
              "    </tr>\n",
              "    <tr>\n",
              "      <th>6615</th>\n",
              "      <td>3292.jpg</td>\n",
              "    </tr>\n",
              "    <tr>\n",
              "      <th>6616</th>\n",
              "      <td>18392.jpg</td>\n",
              "    </tr>\n",
              "    <tr>\n",
              "      <th>6617</th>\n",
              "      <td>7731.jpg</td>\n",
              "    </tr>\n",
              "    <tr>\n",
              "      <th>6618</th>\n",
              "      <td>26522.jpg</td>\n",
              "    </tr>\n",
              "    <tr>\n",
              "      <th>6619</th>\n",
              "      <td>25614.jpg</td>\n",
              "    </tr>\n",
              "    <tr>\n",
              "      <th>6620</th>\n",
              "      <td>11283.jpg</td>\n",
              "    </tr>\n",
              "    <tr>\n",
              "      <th>6621</th>\n",
              "      <td>1485.jpg</td>\n",
              "    </tr>\n",
              "    <tr>\n",
              "      <th>6622</th>\n",
              "      <td>15057.jpg</td>\n",
              "    </tr>\n",
              "    <tr>\n",
              "      <th>6623</th>\n",
              "      <td>9582.jpg</td>\n",
              "    </tr>\n",
              "    <tr>\n",
              "      <th>6624</th>\n",
              "      <td>10634.jpg</td>\n",
              "    </tr>\n",
              "    <tr>\n",
              "      <th>6625</th>\n",
              "      <td>15146.jpg</td>\n",
              "    </tr>\n",
              "    <tr>\n",
              "      <th>6626</th>\n",
              "      <td>16049.jpg</td>\n",
              "    </tr>\n",
              "    <tr>\n",
              "      <th>6627</th>\n",
              "      <td>13461.jpg</td>\n",
              "    </tr>\n",
              "    <tr>\n",
              "      <th>6628</th>\n",
              "      <td>147.jpg</td>\n",
              "    </tr>\n",
              "    <tr>\n",
              "      <th>6629</th>\n",
              "      <td>22636.jpg</td>\n",
              "    </tr>\n",
              "    <tr>\n",
              "      <th>6630</th>\n",
              "      <td>6512.jpg</td>\n",
              "    </tr>\n",
              "    <tr>\n",
              "      <th>6631</th>\n",
              "      <td>1876.jpg</td>\n",
              "    </tr>\n",
              "    <tr>\n",
              "      <th>6632</th>\n",
              "      <td>14940.jpg</td>\n",
              "    </tr>\n",
              "    <tr>\n",
              "      <th>6633</th>\n",
              "      <td>3638.jpg</td>\n",
              "    </tr>\n",
              "    <tr>\n",
              "      <th>6634</th>\n",
              "      <td>376.jpg</td>\n",
              "    </tr>\n",
              "    <tr>\n",
              "      <th>6635</th>\n",
              "      <td>9357.jpg</td>\n",
              "    </tr>\n",
              "  </tbody>\n",
              "</table>\n",
              "<p>6636 rows × 1 columns</p>\n",
              "</div>"
            ],
            "text/plain": [
              "             ID\n",
              "0     25321.jpg\n",
              "1       989.jpg\n",
              "2     19277.jpg\n",
              "3     13093.jpg\n",
              "4      5367.jpg\n",
              "5     19851.jpg\n",
              "6     10384.jpg\n",
              "7     24567.jpg\n",
              "8      2029.jpg\n",
              "9      4956.jpg\n",
              "10    26131.jpg\n",
              "11    17407.jpg\n",
              "12    11136.jpg\n",
              "13    23038.jpg\n",
              "14     6333.jpg\n",
              "15    25076.jpg\n",
              "16    22102.jpg\n",
              "17    12396.jpg\n",
              "18    24719.jpg\n",
              "19    21354.jpg\n",
              "20    15362.jpg\n",
              "21    10415.jpg\n",
              "22     5295.jpg\n",
              "23     5531.jpg\n",
              "24    16784.jpg\n",
              "25    22442.jpg\n",
              "26    16794.jpg\n",
              "27    11261.jpg\n",
              "28    11540.jpg\n",
              "29    24286.jpg\n",
              "...         ...\n",
              "6606  13841.jpg\n",
              "6607   8999.jpg\n",
              "6608  15780.jpg\n",
              "6609  10241.jpg\n",
              "6610  13006.jpg\n",
              "6611  20322.jpg\n",
              "6612  24054.jpg\n",
              "6613  21310.jpg\n",
              "6614  24707.jpg\n",
              "6615   3292.jpg\n",
              "6616  18392.jpg\n",
              "6617   7731.jpg\n",
              "6618  26522.jpg\n",
              "6619  25614.jpg\n",
              "6620  11283.jpg\n",
              "6621   1485.jpg\n",
              "6622  15057.jpg\n",
              "6623   9582.jpg\n",
              "6624  10634.jpg\n",
              "6625  15146.jpg\n",
              "6626  16049.jpg\n",
              "6627  13461.jpg\n",
              "6628    147.jpg\n",
              "6629  22636.jpg\n",
              "6630   6512.jpg\n",
              "6631   1876.jpg\n",
              "6632  14940.jpg\n",
              "6633   3638.jpg\n",
              "6634    376.jpg\n",
              "6635   9357.jpg\n",
              "\n",
              "[6636 rows x 1 columns]"
            ]
          },
          "metadata": {
            "tags": []
          },
          "execution_count": 62
        }
      ]
    },
    {
      "metadata": {
        "id": "mLrLu0UzjFS9",
        "colab_type": "code",
        "colab": {}
      },
      "cell_type": "code",
      "source": [
        ""
      ],
      "execution_count": 0,
      "outputs": []
    }
  ]
}