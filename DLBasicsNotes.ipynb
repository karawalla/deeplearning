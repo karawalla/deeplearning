{
  "nbformat": 4,
  "nbformat_minor": 0,
  "metadata": {
    "colab": {
      "name": "DLBasicsNotes",
      "version": "0.3.2",
      "provenance": [],
      "collapsed_sections": [],
      "include_colab_link": true
    },
    "kernelspec": {
      "name": "python3",
      "display_name": "Python 3"
    },
    "accelerator": "GPU"
  },
  "cells": [
    {
      "cell_type": "markdown",
      "metadata": {
        "id": "view-in-github",
        "colab_type": "text"
      },
      "source": [
        "[View in Colaboratory](https://colab.research.google.com/github/karawalla/deeplearning/blob/master/DLBasicsNotes.ipynb)"
      ]
    },
    {
      "metadata": {
        "id": "QDZZXmADrjhu",
        "colab_type": "code",
        "colab": {
          "base_uri": "https://localhost:8080/",
          "height": 173
        },
        "outputId": "ccf0e383-51fc-4e9a-9b17-016867cfdf4c"
      },
      "cell_type": "code",
      "source": [
        "import keras\n",
        "\n",
        "from keras.datasets import imdb\n",
        "import numpy as np\n",
        "\n",
        "\n",
        "def vectorize_data(data, dimensions=10000):\n",
        "  vector_data = np.zeros((len(data), dimensions))\n",
        "  for i, item in enumerate(data):\n",
        "    vector_data[i, item] = 1.\n",
        "   \n",
        "  return vector_data\n",
        "  \n",
        "  \n",
        "  \n",
        "  \n",
        "(train_data, train_labels), (test_data, test_labels) = imdb.load_data(num_words=10000)\n",
        "\n",
        "print(max([max(sequence) for sequence in train_data]))\n",
        "\n",
        "wi = imdb.get_word_index()\n",
        "\n",
        "reverse_wi = dict([(value, key) for (key, value) in wi.items()])\n",
        "\n",
        "decoded_review = ' '.join([reverse_wi.get(i - 3, \"?\") for i in train_data[0]])\n",
        "print(decoded_review)\n",
        "\n",
        "x_train = vectorize_data(train_data)\n",
        "x_test = vectorize_data(test_data)\n",
        "\n",
        "y_train = np.asarray(train_labels).astype('float32')\n",
        "y_test = np.asarray(test_labels).astype('float32')\n",
        "\n",
        "print(len(x_train))\n",
        "\n",
        "\n",
        "\n"
      ],
      "execution_count": 2,
      "outputs": [
        {
          "output_type": "stream",
          "text": [
            "Using TensorFlow backend.\n"
          ],
          "name": "stderr"
        },
        {
          "output_type": "stream",
          "text": [
            "Downloading data from https://s3.amazonaws.com/text-datasets/imdb.npz\n",
            "17465344/17464789 [==============================] - 3s 0us/step\n",
            "9999\n",
            "Downloading data from https://s3.amazonaws.com/text-datasets/imdb_word_index.json\n",
            "1646592/1641221 [==============================] - 1s 1us/step\n",
            "? this film was just brilliant casting location scenery story direction everyone's really suited the part they played and you could just imagine being there robert ? is an amazing actor and now the same being director ? father came from the same scottish island as myself so i loved the fact there was a real connection with this film the witty remarks throughout the film were great it was just brilliant so much that i bought the film as soon as it was released for ? and would recommend it to everyone to watch and the fly fishing was amazing really cried at the end it was so sad and you know what they say if you cry at a film it must have been good and this definitely was also ? to the two little boy's that played the ? of norman and paul they were just brilliant children are often left out of the ? list i think because the stars that play them all grown up are such a big profile for the whole film but these children are amazing and should be praised for what they have done don't you think the whole story was so lovely because it was true and was someone's life after all that was shared with us all\n",
            "25000\n"
          ],
          "name": "stdout"
        }
      ]
    },
    {
      "metadata": {
        "id": "fMrU_oZh08Bt",
        "colab_type": "code",
        "colab": {
          "base_uri": "https://localhost:8080/",
          "height": 391
        },
        "outputId": "a4e7695b-18b1-4ab5-cea4-113994410dd9"
      },
      "cell_type": "code",
      "source": [
        "\n",
        "from keras import layers\n",
        "from keras import models\n",
        "from keras import optimizers\n",
        "from keras import metrics\n",
        "from keras import losses\n",
        "\n",
        "model = models.Sequential()\n",
        "\n",
        "model.add(layers.Dense(16, activation='relu', input_shape=(10000,)))\n",
        "model.add(layers.Dense(16, activation='relu'))\n",
        "model.add(layers.Dense(1, activation='sigmoid'))\n",
        "\n",
        "model.summary()\n",
        "\n",
        "model.compile(optimizer=optimizers.RMSprop(lr=0.001), loss=losses.binary_crossentropy, metrics=[metrics.binary_accuracy])\n",
        "\n",
        "\n",
        "partial_x = x_train[:10000]\n",
        "x = x_train[10000:]\n",
        "\n",
        "partial_y = y_train[:10000]\n",
        "y = y_train[10000:]\n",
        "\n",
        "history = model.fit(partial_x, partial_y, epochs=4, batch_size=512, validation_data=(x,y))\n",
        "\n"
      ],
      "execution_count": 22,
      "outputs": [
        {
          "output_type": "stream",
          "text": [
            "_________________________________________________________________\n",
            "Layer (type)                 Output Shape              Param #   \n",
            "=================================================================\n",
            "dense_29 (Dense)             (None, 16)                160016    \n",
            "_________________________________________________________________\n",
            "dense_30 (Dense)             (None, 16)                272       \n",
            "_________________________________________________________________\n",
            "dense_31 (Dense)             (None, 1)                 17        \n",
            "=================================================================\n",
            "Total params: 160,305\n",
            "Trainable params: 160,305\n",
            "Non-trainable params: 0\n",
            "_________________________________________________________________\n",
            "Train on 10000 samples, validate on 15000 samples\n",
            "Epoch 1/4\n",
            "10000/10000 [==============================] - 2s 192us/step - loss: 0.5535 - binary_accuracy: 0.7448 - val_loss: 0.4404 - val_binary_accuracy: 0.8393\n",
            "Epoch 2/4\n",
            "10000/10000 [==============================] - 2s 153us/step - loss: 0.3406 - binary_accuracy: 0.8988 - val_loss: 0.3717 - val_binary_accuracy: 0.8523\n",
            "Epoch 3/4\n",
            "10000/10000 [==============================] - 2s 151us/step - loss: 0.2497 - binary_accuracy: 0.9265 - val_loss: 0.3083 - val_binary_accuracy: 0.8811\n",
            "Epoch 4/4\n",
            "10000/10000 [==============================] - 2s 153us/step - loss: 0.1947 - binary_accuracy: 0.9435 - val_loss: 0.2914 - val_binary_accuracy: 0.8831\n"
          ],
          "name": "stdout"
        }
      ]
    },
    {
      "metadata": {
        "id": "aXGrHknDe6oI",
        "colab_type": "code",
        "colab": {
          "base_uri": "https://localhost:8080/",
          "height": 364
        },
        "outputId": "2139c0f7-0d2e-402f-fed2-98e9cd85e560"
      },
      "cell_type": "code",
      "source": [
        "import matplotlib.pyplot as plt\n",
        "\n",
        "history_dict = history.history\n",
        "print(history_dict.keys())\n",
        "\n",
        "acc = history_dict['binary_accuracy']\n",
        "val_acc = history_dict['val_binary_accuracy']\n",
        "loss = history_dict['loss']\n",
        "val_loss = history_dict['val_loss']\n",
        "\n",
        "epochs = range(1, len(acc) + 1)\n",
        "\n",
        "plt.plot(epochs, loss, 'bo', label='Training Loss')\n",
        "plt.plot(epochs, val_loss, 'b', label='Val Loss')\n",
        "plt.xlabel = 'Epochs'\n",
        "plt.ylabel = \"Loss\"\n",
        "plt.legend()\n",
        "plt.show()\n",
        "\n",
        "\n",
        "\n",
        "\n",
        "\n"
      ],
      "execution_count": 23,
      "outputs": [
        {
          "output_type": "stream",
          "text": [
            "dict_keys(['val_loss', 'val_binary_accuracy', 'loss', 'binary_accuracy'])\n"
          ],
          "name": "stdout"
        },
        {
          "output_type": "display_data",
          "data": {
            "image/png": "[encoded data removed]",
            "text/plain": [
              "<matplotlib.figure.Figure at 0x7f4cbc334ef0>"
            ]
          },
          "metadata": {
            "tags": []
          }
        }
      ]
    },
    {
      "metadata": {
        "id": "NdfCAg3IkgoC",
        "colab_type": "code",
        "colab": {
          "base_uri": "https://localhost:8080/",
          "height": 347
        },
        "outputId": "de7844f7-24e0-4ac3-a46e-5d64fdd27e3c"
      },
      "cell_type": "code",
      "source": [
        "plt.clf()\n",
        "plt.plot(epochs, acc, 'bo', label='Training ACC')\n",
        "plt.plot(epochs, val_acc, 'b', label='Val ACC')\n",
        "plt.xlabel = 'Epochs'\n",
        "plt.ylabel = \"ACC\"\n",
        "plt.legend()\n",
        "plt.show()\n"
      ],
      "execution_count": 24,
      "outputs": [
        {
          "output_type": "display_data",
          "data": {
            "image/png": "[encoded data removed]",
            "text/plain": [
              "<matplotlib.figure.Figure at 0x7f4cbc334fd0>"
            ]
          },
          "metadata": {
            "tags": []
          }
        }
      ]
    },
    {
      "metadata": {
        "id": "FAAcyU5ll9Ip",
        "colab_type": "code",
        "colab": {
          "base_uri": "https://localhost:8080/",
          "height": 34
        },
        "outputId": "4818a85d-efc2-479d-b4b3-157a11cd6693"
      },
      "cell_type": "code",
      "source": [
        "results = model.evaluate(x_test, y_test)"
      ],
      "execution_count": 25,
      "outputs": [
        {
          "output_type": "stream",
          "text": [
            "25000/25000 [==============================] - 4s 147us/step\n"
          ],
          "name": "stdout"
        }
      ]
    },
    {
      "metadata": {
        "id": "VobiBjJymqmt",
        "colab_type": "code",
        "colab": {
          "base_uri": "https://localhost:8080/",
          "height": 34
        },
        "outputId": "0d2de290-74f8-43b7-b176-29aef56be560"
      },
      "cell_type": "code",
      "source": [
        "results"
      ],
      "execution_count": 26,
      "outputs": [
        {
          "output_type": "execute_result",
          "data": {
            "text/plain": [
              "[0.3092923516845703, 0.87736]"
            ]
          },
          "metadata": {
            "tags": []
          },
          "execution_count": 26
        }
      ]
    },
    {
      "metadata": {
        "id": "MLdB3seKmxD0",
        "colab_type": "code",
        "colab": {}
      },
      "cell_type": "code",
      "source": [
        "pred = model.predict(x_test)"
      ],
      "execution_count": 0,
      "outputs": []
    },
    {
      "metadata": {
        "id": "fQMs1-6anJri",
        "colab_type": "code",
        "colab": {
          "base_uri": "https://localhost:8080/",
          "height": 34
        },
        "outputId": "d33a30ea-11a2-423c-a330-fb808018167c"
      },
      "cell_type": "code",
      "source": [
        "pred[0]"
      ],
      "execution_count": 29,
      "outputs": [
        {
          "output_type": "execute_result",
          "data": {
            "text/plain": [
              "array([0.33294198], dtype=float32)"
            ]
          },
          "metadata": {
            "tags": []
          },
          "execution_count": 29
        }
      ]
    },
    {
      "metadata": {
        "id": "RYAwdNM-nLgP",
        "colab_type": "code",
        "colab": {
          "base_uri": "https://localhost:8080/",
          "height": 34
        },
        "outputId": "0d5b012f-588a-4479-a7a9-c81ab6601a9c"
      },
      "cell_type": "code",
      "source": [
        "pred[200]"
      ],
      "execution_count": 33,
      "outputs": [
        {
          "output_type": "execute_result",
          "data": {
            "text/plain": [
              "array([0.8256953], dtype=float32)"
            ]
          },
          "metadata": {
            "tags": []
          },
          "execution_count": 33
        }
      ]
    },
    {
      "metadata": {
        "id": "tcLLWHA9nOun",
        "colab_type": "code",
        "colab": {
          "base_uri": "https://localhost:8080/",
          "height": 54
        },
        "outputId": "849c5567-d46b-4e1c-964d-bea47112387a"
      },
      "cell_type": "code",
      "source": [
        "decoded_review = ' '.join([reverse_wi.get(i - 3, \"?\") for i in test_data[200]])\n",
        "print(decoded_review)\n"
      ],
      "execution_count": 34,
      "outputs": [
        {
          "output_type": "stream",
          "text": [
            "? don't be fooled this isn't yet another tired example of the girls from outer space pretending to be the french ? team come to earth to collect as much ? as possible genre though the synopsis may suggest otherwise this movie is a gem an absolute jewel that has ? my life from the moment i laid eyes upon it hilarious ? action packed and stunningly erotic ? is a euro ? tour de force a grossly underrated ? classic br br stop everything you are doing and run out to rent or better yet buy this movie immediately\n"
          ],
          "name": "stdout"
        }
      ]
    },
    {
      "metadata": {
        "id": "DKzfGN29nXcM",
        "colab_type": "code",
        "colab": {}
      },
      "cell_type": "code",
      "source": [
        ""
      ],
      "execution_count": 0,
      "outputs": []
    }
  ]
}