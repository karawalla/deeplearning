{
  "nbformat": 4,
  "nbformat_minor": 0,
  "metadata": {
    "colab": {
      "name": "MultiClassMLP.ipynb",
      "version": "0.3.2",
      "provenance": [],
      "collapsed_sections": [],
      "include_colab_link": true
    },
    "kernelspec": {
      "name": "python3",
      "display_name": "Python 3"
    },
    "accelerator": "GPU"
  },
  "cells": [
    {
      "cell_type": "markdown",
      "metadata": {
        "id": "view-in-github",
        "colab_type": "text"
      },
      "source": [
        "[View in Colaboratory](https://colab.research.google.com/github/karawalla/deeplearning/blob/master/MultiClassMLP.ipynb)"
      ]
    },
    {
      "metadata": {
        "id": "oonDaHLXokSo",
        "colab_type": "code",
        "colab": {
          "base_uri": "https://localhost:8080/",
          "height": 68
        },
        "outputId": "723e0fa2-04d9-41ca-a277-69247e2e7b96"
      },
      "cell_type": "code",
      "source": [
        "from keras.datasets import reuters\n",
        "from keras.utils.np_utils import to_categorical\n",
        "import numpy as np\n",
        "from keras.models import Sequential\n",
        "from keras.layers import Dense\n",
        "\n",
        "\n",
        "(train_data, train_labels), (test_data, test_labels) = reuters.load_data(num_words=10000)"
      ],
      "execution_count": 0,
      "outputs": [
        {
          "output_type": "stream",
          "text": [
            "Using TensorFlow backend.\n"
          ],
          "name": "stderr"
        },
        {
          "output_type": "stream",
          "text": [
            "Downloading data from https://s3.amazonaws.com/text-datasets/reuters.npz\n",
            "2113536/2110848 [==============================] - 1s 1us/step\n"
          ],
          "name": "stdout"
        }
      ]
    },
    {
      "metadata": {
        "id": "kZH1A6a0pdrK",
        "colab_type": "code",
        "colab": {}
      },
      "cell_type": "code",
      "source": [
        "def decode(data):\n",
        "  work_index = reuters.get_word_index()\n",
        "  reverse_idx = dict([(key, value) for (value, key) in work_index.items()])\n",
        "  decoded_data = ' '.join([reverse_idx.get(item - 3, '?') for item in data])\n",
        "  return decoded_data\n",
        "\n",
        "\n",
        "def vectorize(data, dimension=10000):\n",
        "  results = np.zeros((len(data), dimension))\n",
        "  for (i, item) in enumerate(data):\n",
        "    results[i, item] = 1.\n",
        "    \n",
        "  return results"
      ],
      "execution_count": 0,
      "outputs": []
    },
    {
      "metadata": {
        "id": "5QHzlKudqZAT",
        "colab_type": "code",
        "colab": {
          "base_uri": "https://localhost:8080/",
          "height": 68
        },
        "outputId": "c57e5f81-0b71-40ec-e0bb-48bbf7e27ea9"
      },
      "cell_type": "code",
      "source": [
        "decode(train_data[0])\n",
        "train_labels[1]"
      ],
      "execution_count": 0,
      "outputs": [
        {
          "output_type": "stream",
          "text": [
            "Downloading data from https://s3.amazonaws.com/text-datasets/reuters_word_index.json\n",
            "557056/550378 [==============================] - 1s 2us/step\n"
          ],
          "name": "stdout"
        },
        {
          "output_type": "execute_result",
          "data": {
            "text/plain": [
              "4"
            ]
          },
          "metadata": {
            "tags": []
          },
          "execution_count": 3
        }
      ]
    },
    {
      "metadata": {
        "id": "8FGdVS4jqe7o",
        "colab_type": "code",
        "colab": {}
      },
      "cell_type": "code",
      "source": [
        "x_train = vectorize(train_data)\n",
        "x_test= vectorize(test_data)\n",
        "\n",
        "\n",
        "y_train = to_categorical(train_labels)\n",
        "y_test = to_categorical(test_labels)\n"
      ],
      "execution_count": 0,
      "outputs": []
    },
    {
      "metadata": {
        "id": "vQ8VhNwEqqcz",
        "colab_type": "code",
        "colab": {
          "base_uri": "https://localhost:8080/",
          "height": 34
        },
        "outputId": "c309c27f-e522-4d81-fd92-d3ce19a269c5"
      },
      "cell_type": "code",
      "source": [
        "y_train[0]\n",
        "\n",
        "print(x_train.shape)"
      ],
      "execution_count": 0,
      "outputs": [
        {
          "output_type": "stream",
          "text": [
            "(8982, 10000)\n"
          ],
          "name": "stdout"
        }
      ]
    },
    {
      "metadata": {
        "id": "8UPrXbMrtY9e",
        "colab_type": "code",
        "colab": {
          "base_uri": "https://localhost:8080/",
          "height": 306
        },
        "outputId": "9f2b0132-9e76-414b-eb54-1428e9559295"
      },
      "cell_type": "code",
      "source": [
        "model = Sequential()\n",
        "model.add(Dense(64, activation='relu', input_shape=(10000,)))\n",
        "model.add(Dense(64, activation='relu'))\n",
        "model.add(Dense(46, activation='softmax'))\n",
        "model.compile(optimizer='rmsprop', loss='categorical_crossentropy', metrics=['accuracy'])\n",
        "\n",
        "split_x_train = x_train[1000:]\n",
        "split_y_train = y_train[1000:]\n",
        "\n",
        "x_val = x_train[:1000]\n",
        "y_val = y_train[:1000]\n",
        "\n",
        "\n",
        "\n",
        "\n",
        "history = model.fit(split_x_train,split_y_train, epochs=8, batch_size=512, validation_data=(x_val, y_val))"
      ],
      "execution_count": 0,
      "outputs": [
        {
          "output_type": "stream",
          "text": [
            "Train on 7982 samples, validate on 1000 samples\n",
            "Epoch 1/8\n",
            "7982/7982 [==============================] - 1s 133us/step - loss: 2.5322 - acc: 0.4955 - val_loss: 1.7208 - val_acc: 0.6120\n",
            "Epoch 2/8\n",
            "7982/7982 [==============================] - 1s 79us/step - loss: 1.4452 - acc: 0.6879 - val_loss: 1.3459 - val_acc: 0.7060\n",
            "Epoch 3/8\n",
            "7982/7982 [==============================] - 1s 78us/step - loss: 1.0953 - acc: 0.7651 - val_loss: 1.1708 - val_acc: 0.7430\n",
            "Epoch 4/8\n",
            "7982/7982 [==============================] - 1s 79us/step - loss: 0.8697 - acc: 0.8165 - val_loss: 1.0793 - val_acc: 0.7590\n",
            "Epoch 5/8\n",
            "7982/7982 [==============================] - 1s 79us/step - loss: 0.7034 - acc: 0.8472 - val_loss: 0.9844 - val_acc: 0.7810\n",
            "Epoch 6/8\n",
            "7982/7982 [==============================] - 1s 78us/step - loss: 0.5667 - acc: 0.8802 - val_loss: 0.9411 - val_acc: 0.8040\n",
            "Epoch 7/8\n",
            "7982/7982 [==============================] - 1s 79us/step - loss: 0.4581 - acc: 0.9048 - val_loss: 0.9083 - val_acc: 0.8020\n",
            "Epoch 8/8\n",
            "7982/7982 [==============================] - 1s 77us/step - loss: 0.3695 - acc: 0.9231 - val_loss: 0.9363 - val_acc: 0.7890\n"
          ],
          "name": "stdout"
        }
      ]
    },
    {
      "metadata": {
        "id": "fx0L7G5-AX3D",
        "colab_type": "code",
        "colab": {
          "base_uri": "https://localhost:8080/",
          "height": 34
        },
        "outputId": "c60138a2-48f8-4fe6-bbdd-500759a01919"
      },
      "cell_type": "code",
      "source": [
        ""
      ],
      "execution_count": 0,
      "outputs": [
        {
          "output_type": "execute_result",
          "data": {
            "text/plain": [
              "dict_keys(['val_loss', 'val_acc', 'loss', 'acc'])"
            ]
          },
          "metadata": {
            "tags": []
          },
          "execution_count": 23
        }
      ]
    },
    {
      "metadata": {
        "id": "SrLWIw2UMl8M",
        "colab_type": "code",
        "colab": {
          "base_uri": "https://localhost:8080/",
          "height": 361
        },
        "outputId": "b9fa13e4-c98f-41b8-8778-f0254191909b"
      },
      "cell_type": "code",
      "source": [
        "import matplotlib.pyplot as plt\n",
        "\n",
        "history_dict = history.history\n",
        "\n",
        "acc = history_dict['acc']\n",
        "loss = history_dict['loss']\n",
        "\n",
        "\n",
        "val_acc = history_dict['val_acc']\n",
        "val_loss = history_dict['val_loss']\n",
        "\n",
        "epochs = range(1, 1 + len(acc))\n",
        "\n",
        "\n",
        "plt.plot(epochs, acc, 'r', label=\"TRAINING ACC\")\n",
        "plt.plot(epochs, val_acc, 'b', label=\"VALIDATION ACC\")\n",
        "plt.legend()\n",
        "plt.xlabel('epochs')\n",
        "plt.ylabel('acc')\n",
        "plt.show()\n",
        "\n",
        "\n"
      ],
      "execution_count": 0,
      "outputs": [
        {
          "output_type": "display_data",
          "data": {
            "image/png": "[encoded data removed]",
            "text/plain": [
              "<matplotlib.figure.Figure at 0x7fb1ab097d30>"
            ]
          },
          "metadata": {
            "tags": []
          }
        }
      ]
    },
    {
      "metadata": {
        "id": "rva73-q6N_ed",
        "colab_type": "code",
        "colab": {
          "base_uri": "https://localhost:8080/",
          "height": 361
        },
        "outputId": "6b3ec4cd-2d8e-43db-82e5-c4268020e8f4"
      },
      "cell_type": "code",
      "source": [
        "plt.clf()\n",
        "plt.plot(epochs, loss, 'r', label=\"TRAINING LOSS\")\n",
        "plt.plot(epochs, val_loss, 'b', label=\"VALIDATION LOSS\")\n",
        "plt.legend()\n",
        "plt.xlabel('epochs')\n",
        "plt.ylabel('loss')\n",
        "plt.show()"
      ],
      "execution_count": 0,
      "outputs": [
        {
          "output_type": "display_data",
          "data": {
            "image/png": "[encoded data removed]",
            "text/plain": [
              "<matplotlib.figure.Figure at 0x7fb1ab078c18>"
            ]
          },
          "metadata": {
            "tags": []
          }
        }
      ]
    },
    {
      "metadata": {
        "id": "OCNN60GAOuJS",
        "colab_type": "code",
        "colab": {
          "base_uri": "https://localhost:8080/",
          "height": 34
        },
        "outputId": "e279ae76-82e2-4345-f67f-05f156b574c5"
      },
      "cell_type": "code",
      "source": [
        "results = model.evaluate(x_test, y_test)"
      ],
      "execution_count": 0,
      "outputs": [
        {
          "output_type": "stream",
          "text": [
            "2246/2246 [==============================] - 0s 151us/step\n"
          ],
          "name": "stdout"
        }
      ]
    },
    {
      "metadata": {
        "id": "IlahfFsZPH6z",
        "colab_type": "code",
        "colab": {
          "base_uri": "https://localhost:8080/",
          "height": 34
        },
        "outputId": "b08b49d9-5a4c-437d-c712-a80ad2ff9270"
      },
      "cell_type": "code",
      "source": [
        "results\n"
      ],
      "execution_count": 0,
      "outputs": [
        {
          "output_type": "execute_result",
          "data": {
            "text/plain": [
              "[0.9956972860164761, 0.7778272484947504]"
            ]
          },
          "metadata": {
            "tags": []
          },
          "execution_count": 10
        }
      ]
    },
    {
      "metadata": {
        "id": "_qoWeBukPI_s",
        "colab_type": "code",
        "colab": {
          "base_uri": "https://localhost:8080/",
          "height": 34
        },
        "outputId": "d93541fb-e8b0-4d2e-9f0a-f6df58ebb48e"
      },
      "cell_type": "code",
      "source": [
        "#random method \n",
        "\n",
        "import copy\n",
        "\n",
        "test_labels_copy = copy.copy(test_labels)\n",
        "np.random.shuffle(test_labels_copy)\n",
        "hits_array = np.array(test_labels_copy) == np.array(test_labels)\n",
        "print(hits_array)"
      ],
      "execution_count": 0,
      "outputs": [
        {
          "output_type": "stream",
          "text": [
            "[False False False ... False  True False]\n"
          ],
          "name": "stdout"
        }
      ]
    },
    {
      "metadata": {
        "id": "hD47EPmbQoy3",
        "colab_type": "code",
        "colab": {
          "base_uri": "https://localhost:8080/",
          "height": 34
        },
        "outputId": "175639a7-8b26-4cb0-cff8-61c975080b35"
      },
      "cell_type": "code",
      "source": [
        "float(np.sum(hits_array))/len(y_test)"
      ],
      "execution_count": 0,
      "outputs": [
        {
          "output_type": "execute_result",
          "data": {
            "text/plain": [
              "0.1834372217275156"
            ]
          },
          "metadata": {
            "tags": []
          },
          "execution_count": 12
        }
      ]
    },
    {
      "metadata": {
        "id": "sN37DsgjRc2M",
        "colab_type": "code",
        "colab": {}
      },
      "cell_type": "code",
      "source": [
        "predictions = model.predict(x_test)"
      ],
      "execution_count": 0,
      "outputs": []
    },
    {
      "metadata": {
        "id": "WIkI80CI4PM4",
        "colab_type": "code",
        "colab": {
          "base_uri": "https://localhost:8080/",
          "height": 221
        },
        "outputId": "eeccfed9-e76a-4b4e-fdcb-3aefc18f92c6"
      },
      "cell_type": "code",
      "source": [
        "predictions[0]"
      ],
      "execution_count": 0,
      "outputs": [
        {
          "output_type": "execute_result",
          "data": {
            "text/plain": [
              "array([6.7318438e-06, 1.6811276e-04, 2.5684369e-06, 9.2600089e-01,\n",
              "       6.5628894e-02, 2.3388272e-06, 1.7465873e-05, 3.7176509e-05,\n",
              "       1.4703175e-03, 1.9424808e-05, 1.8392327e-04, 2.3011249e-04,\n",
              "       1.4575430e-04, 5.5328496e-06, 1.2737399e-05, 8.4976346e-06,\n",
              "       1.5128698e-03, 1.2125891e-04, 7.5294171e-05, 7.5462321e-04,\n",
              "       2.1643455e-03, 2.8483797e-04, 4.9818332e-06, 6.6598400e-06,\n",
              "       1.1244378e-04, 1.1756331e-05, 8.4703157e-07, 1.8163590e-05,\n",
              "       1.7772663e-04, 2.1257634e-05, 2.6330800e-04, 2.4186164e-05,\n",
              "       7.7051278e-05, 4.7547687e-06, 2.0901929e-04, 7.2154121e-06,\n",
              "       4.0080406e-05, 1.4407565e-05, 4.5839355e-05, 2.6767737e-05,\n",
              "       1.5330559e-05, 2.9207908e-05, 2.4989280e-05, 2.1234689e-06,\n",
              "       7.6247020e-06, 4.6750540e-07], dtype=float32)"
            ]
          },
          "metadata": {
            "tags": []
          },
          "execution_count": 16
        }
      ]
    },
    {
      "metadata": {
        "id": "UC1jlYtW4SjG",
        "colab_type": "code",
        "colab": {
          "base_uri": "https://localhost:8080/",
          "height": 34
        },
        "outputId": "6e22ed1a-317c-4606-ce79-2683dff708fd"
      },
      "cell_type": "code",
      "source": [
        "np.argmax(predictions[-1])"
      ],
      "execution_count": 0,
      "outputs": [
        {
          "output_type": "execute_result",
          "data": {
            "text/plain": [
              "1"
            ]
          },
          "metadata": {
            "tags": []
          },
          "execution_count": 23
        }
      ]
    },
    {
      "metadata": {
        "id": "46cSARht4bKp",
        "colab_type": "code",
        "colab": {
          "base_uri": "https://localhost:8080/",
          "height": 34
        },
        "outputId": "7052c5f8-6ee5-41c2-bc5a-aaaa342191b5"
      },
      "cell_type": "code",
      "source": [
        "train_labels"
      ],
      "execution_count": 0,
      "outputs": [
        {
          "output_type": "execute_result",
          "data": {
            "text/plain": [
              "array([ 3,  4,  3, ..., 25,  3, 25])"
            ]
          },
          "metadata": {
            "tags": []
          },
          "execution_count": 19
        }
      ]
    },
    {
      "metadata": {
        "id": "4ahEBKaI4t9T",
        "colab_type": "code",
        "colab": {
          "base_uri": "https://localhost:8080/",
          "height": 34
        },
        "outputId": "687e942b-774c-4588-eb18-8ae4b12370d8"
      },
      "cell_type": "code",
      "source": [
        "test_labels[-1]"
      ],
      "execution_count": 0,
      "outputs": [
        {
          "output_type": "execute_result",
          "data": {
            "text/plain": [
              "24"
            ]
          },
          "metadata": {
            "tags": []
          },
          "execution_count": 24
        }
      ]
    },
    {
      "metadata": {
        "id": "-5KcnfuH44Tc",
        "colab_type": "code",
        "colab": {}
      },
      "cell_type": "code",
      "source": [
        "y_train = np.array(train_labels)\n",
        "y_test = np.array(test_labels)"
      ],
      "execution_count": 0,
      "outputs": []
    },
    {
      "metadata": {
        "id": "emfBbqL35EX3",
        "colab_type": "code",
        "colab": {
          "base_uri": "https://localhost:8080/",
          "height": 34
        },
        "outputId": "a6f15638-7367-49e3-a6ac-a4b30f5aebcf"
      },
      "cell_type": "code",
      "source": [
        "y_train"
      ],
      "execution_count": 0,
      "outputs": [
        {
          "output_type": "execute_result",
          "data": {
            "text/plain": [
              "array([ 3,  4,  3, ..., 25,  3, 25])"
            ]
          },
          "metadata": {
            "tags": []
          },
          "execution_count": 26
        }
      ]
    },
    {
      "metadata": {
        "id": "5MsSVv4f5FoX",
        "colab_type": "code",
        "colab": {
          "base_uri": "https://localhost:8080/",
          "height": 306
        },
        "outputId": "fb5661c6-0939-4192-d724-cf60cde1f8aa"
      },
      "cell_type": "code",
      "source": [
        "model.compile(optimizer='rmsprop', loss=\"sparse_categorical_crossentropy\", metrics=['acc'])\n",
        "\n",
        "split_x_train = x_train[1000:]\n",
        "split_y_train = y_train[1000:]\n",
        "\n",
        "x_val = x_train[:1000]\n",
        "y_val = y_train[:1000]\n",
        "\n",
        "\n",
        "\n",
        "\n",
        "history = model.fit(split_x_train,split_y_train, epochs=8, batch_size=512, validation_data=(x_val, y_val))"
      ],
      "execution_count": 0,
      "outputs": [
        {
          "output_type": "stream",
          "text": [
            "Train on 7982 samples, validate on 1000 samples\n",
            "Epoch 1/8\n",
            "7982/7982 [==============================] - 1s 98us/step - loss: 0.3261 - acc: 0.9281 - val_loss: 0.9041 - val_acc: 0.8120\n",
            "Epoch 2/8\n",
            "7982/7982 [==============================] - 1s 77us/step - loss: 0.2424 - acc: 0.9453 - val_loss: 0.9149 - val_acc: 0.8050\n",
            "Epoch 3/8\n",
            "7982/7982 [==============================] - 1s 79us/step - loss: 0.2077 - acc: 0.9491 - val_loss: 0.9138 - val_acc: 0.8180\n",
            "Epoch 4/8\n",
            "7982/7982 [==============================] - 1s 76us/step - loss: 0.1807 - acc: 0.9516 - val_loss: 0.9242 - val_acc: 0.8260\n",
            "Epoch 5/8\n",
            "7982/7982 [==============================] - 1s 77us/step - loss: 0.1641 - acc: 0.9526 - val_loss: 0.9793 - val_acc: 0.8110\n",
            "Epoch 6/8\n",
            "7982/7982 [==============================] - 1s 78us/step - loss: 0.1490 - acc: 0.9538 - val_loss: 0.9579 - val_acc: 0.8100\n",
            "Epoch 7/8\n",
            "7982/7982 [==============================] - 1s 77us/step - loss: 0.1352 - acc: 0.9570 - val_loss: 0.9873 - val_acc: 0.8160\n",
            "Epoch 8/8\n",
            "7982/7982 [==============================] - 1s 77us/step - loss: 0.1310 - acc: 0.9563 - val_loss: 0.9960 - val_acc: 0.8130\n"
          ],
          "name": "stdout"
        }
      ]
    },
    {
      "metadata": {
        "id": "hp_sNF9X5hhv",
        "colab_type": "code",
        "colab": {
          "base_uri": "https://localhost:8080/",
          "height": 361
        },
        "outputId": "17a97fa2-2c59-44ef-a28a-f4d02d34a4f0"
      },
      "cell_type": "code",
      "source": [
        "import matplotlib.pyplot as plt\n",
        "\n",
        "history_dict = history.history\n",
        "\n",
        "acc = history_dict['acc']\n",
        "loss = history_dict['loss']\n",
        "\n",
        "\n",
        "val_acc = history_dict['val_acc']\n",
        "val_loss = history_dict['val_loss']\n",
        "\n",
        "epochs = range(1, 1 + len(acc))\n",
        "\n",
        "\n",
        "plt.plot(epochs, acc, 'r', label=\"TRAINING ACC\")\n",
        "plt.plot(epochs, val_acc, 'b', label=\"VALIDATION ACC\")\n",
        "plt.legend()\n",
        "plt.xlabel('epochs')\n",
        "plt.ylabel('acc')\n",
        "plt.show()\n"
      ],
      "execution_count": 0,
      "outputs": [
        {
          "output_type": "display_data",
          "data": {
            "image/png": "[encoded data removed]",
            "text/plain": [
              "<matplotlib.figure.Figure at 0x7fb1a9e96dd8>"
            ]
          },
          "metadata": {
            "tags": []
          }
        }
      ]
    },
    {
      "metadata": {
        "id": "7QB7f-Ek50wy",
        "colab_type": "code",
        "colab": {
          "base_uri": "https://localhost:8080/",
          "height": 361
        },
        "outputId": "b19e25ba-fdca-4788-f6a3-18bf3085efb0"
      },
      "cell_type": "code",
      "source": [
        "plt.clf()\n",
        "plt.plot(epochs, loss, 'r', label=\"TRAINING LOSS\")\n",
        "plt.plot(epochs, val_loss, 'b', label=\"VALIDATION LOSS\")\n",
        "plt.legend()\n",
        "plt.xlabel('epochs')\n",
        "plt.ylabel('loss')\n",
        "plt.show()"
      ],
      "execution_count": 0,
      "outputs": [
        {
          "output_type": "display_data",
          "data": {
            "image/png": "[encoded data removed]",
            "text/plain": [
              "<matplotlib.figure.Figure at 0x7fb1a9e96b70>"
            ]
          },
          "metadata": {
            "tags": []
          }
        }
      ]
    },
    {
      "metadata": {
        "id": "8qtGX1Lh57CU",
        "colab_type": "code",
        "colab": {
          "base_uri": "https://localhost:8080/",
          "height": 34
        },
        "outputId": "e21f4355-6fbe-4275-ff81-79e6c4ae8e94"
      },
      "cell_type": "code",
      "source": [
        "results = model.evaluate(x_test, y_test)"
      ],
      "execution_count": 0,
      "outputs": [
        {
          "output_type": "stream",
          "text": [
            "2246/2246 [==============================] - 0s 151us/step\n"
          ],
          "name": "stdout"
        }
      ]
    },
    {
      "metadata": {
        "id": "FGWr65SC6AiN",
        "colab_type": "code",
        "colab": {
          "base_uri": "https://localhost:8080/",
          "height": 34
        },
        "outputId": "1bf86e84-13ab-49ec-996f-cb3261074b15"
      },
      "cell_type": "code",
      "source": [
        "results"
      ],
      "execution_count": 0,
      "outputs": [
        {
          "output_type": "execute_result",
          "data": {
            "text/plain": [
              "[1.1369491778413632, 0.786731967996086]"
            ]
          },
          "metadata": {
            "tags": []
          },
          "execution_count": 33
        }
      ]
    },
    {
      "metadata": {
        "id": "b12w4U1z6EEC",
        "colab_type": "code",
        "colab": {}
      },
      "cell_type": "code",
      "source": [
        ""
      ],
      "execution_count": 0,
      "outputs": []
    }
  ]
}